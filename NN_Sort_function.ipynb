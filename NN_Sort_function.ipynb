{
  "nbformat": 4,
  "nbformat_minor": 0,
  "metadata": {
    "colab": {
      "provenance": [],
      "authorship_tag": "ABX9TyMd0vBv3cj7CL1xnb7Ul8aq",
      "include_colab_link": true
    },
    "kernelspec": {
      "name": "python3",
      "display_name": "Python 3"
    },
    "language_info": {
      "name": "python"
    }
  },
  "cells": [
    {
      "cell_type": "markdown",
      "metadata": {
        "id": "view-in-github",
        "colab_type": "text"
      },
      "source": [
        "<a href=\"https://colab.research.google.com/github/ianbounos/Neural-Networks-Introduction/blob/main/NN_Sort_function.ipynb\" target=\"_parent\"><img src=\"https://colab.research.google.com/assets/colab-badge.svg\" alt=\"Open In Colab\"/></a>"
      ]
    },
    {
      "cell_type": "markdown",
      "source": [
        "\n",
        "#Can a feedforward neural network learn to sort integers?\n",
        "\n",
        "What we are questioning in this notebook is whether it is possible for a feedforward neural network to learn to order fixed-size vectors. It is clear that in theory, this is possible due to the universal approximation theorem; however, we want to observe it in practice.\n",
        "\n",
        "To do this, we define a fully connected neural network with three layers that takes a vector of size three as input and returns another vector of size three.\n",
        "\n",
        "We train it with triplets of integers between 0 and 100, simulated, and observe the outcomes."
      ],
      "metadata": {
        "id": "kjcyFkx_H5vp"
      }
    },
    {
      "cell_type": "code",
      "execution_count": 2,
      "metadata": {
        "colab": {
          "base_uri": "https://localhost:8080/",
          "height": 504
        },
        "id": "k3iHkc6RFYV6",
        "outputId": "82d096ce-1891-4c77-80f9-aebcdf84f650"
      },
      "outputs": [
        {
          "output_type": "stream",
          "name": "stdout",
          "text": [
            "1/1 [==============================] - 0s 68ms/step\n",
            "Input vector: [[3 1 2]]\n",
            "Sorted vector: [[1.041336  2.0033839 2.996291 ]]\n"
          ]
        },
        {
          "output_type": "display_data",
          "data": {
            "text/plain": [
              "<Figure size 640x480 with 1 Axes>"
            ],
            "image/png": "[encoded data removed]"
          },
          "metadata": {}
        }
      ],
      "source": [
        "import numpy as np\n",
        "import tensorflow as tf\n",
        "from tensorflow import keras\n",
        "from tensorflow.keras import layers\n",
        "import matplotlib.pyplot as plt\n",
        "\n",
        "# Set seed for reproducibility\n",
        "seed_value = 42\n",
        "np.random.seed(seed_value)\n",
        "tf.random.set_seed(seed_value)\n",
        "\n",
        "# Function to generate training data\n",
        "def generate_training_data(num_samples):\n",
        "    input_data = []\n",
        "    output_data = []\n",
        "\n",
        "    for _ in range(num_samples):\n",
        "        # Generate a vector of size three with random values\n",
        "        unsorted_vector = np.random.randint(1, 100, size=3)\n",
        "\n",
        "        # Save the unordered vector\n",
        "        input_data.append(unsorted_vector)\n",
        "\n",
        "        # Save the sorted vector\n",
        "        sorted_vector = np.sort(unsorted_vector)\n",
        "        output_data.append(sorted_vector)\n",
        "\n",
        "    return np.array(input_data), np.array(output_data)\n",
        "\n",
        "# Generate 1000 examples of training data\n",
        "num_samples = 1000\n",
        "input_data, output_data = generate_training_data(num_samples)\n",
        "\n",
        "# Define the neural network model\n",
        "model = keras.Sequential([\n",
        "    layers.Dense(64, activation='relu', input_shape=(3,)),\n",
        "    layers.Dense(32, activation='relu'),\n",
        "    layers.Dense(3, activation='linear')  # Final layer without activation to obtain continuous values\n",
        "])\n",
        "\n",
        "# Compile the model\n",
        "model.compile(optimizer='adam', loss='mean_squared_error')\n",
        "\n",
        "# Train the model and store the history\n",
        "history = model.fit(input_data, output_data, epochs=250, batch_size=32, verbose = 0, validation_split=0.2)\n",
        "\n",
        "# Use the model to sort a new vector\n",
        "new_vector = np.array([[3, 1, 2]])\n",
        "sorted_vector = model.predict(new_vector)\n",
        "\n",
        "print(\"Input vector:\", new_vector)\n",
        "print(\"Sorted vector:\", sorted_vector)\n",
        "\n",
        "# Plot the training and validation error over epochs\n",
        "plt.plot(history.history['loss'], label='Training Loss')\n",
        "plt.plot(history.history['val_loss'], label='Validation Loss')\n",
        "plt.xlabel('Epoch')\n",
        "plt.ylabel('Mean Squared Error')\n",
        "plt.legend()\n",
        "plt.show()\n"
      ]
    },
    {
      "cell_type": "markdown",
      "source": [
        "Let's test it on randomly generated data."
      ],
      "metadata": {
        "id": "-LUisCCLNf_y"
      }
    },
    {
      "cell_type": "code",
      "source": [
        "# Generate 200 examples of test data\n",
        "num_test_samples = 200\n",
        "test_input_data, test_output_data = generate_training_data(num_test_samples)\n",
        "\n",
        "# Evaluate the model on the test dataset\n",
        "test_loss = model.evaluate(test_input_data, test_output_data)\n",
        "print(f'Test Loss: {test_loss}')\n",
        "\n",
        "# Use the model to make predictions on the test dataset\n",
        "predicted_output_data = model.predict(test_input_data)\n"
      ],
      "metadata": {
        "colab": {
          "base_uri": "https://localhost:8080/"
        },
        "id": "_hU2g-K8GC3p",
        "outputId": "2e986ef4-a3d6-43c0-b8df-ccae5252ed41"
      },
      "execution_count": 3,
      "outputs": [
        {
          "output_type": "stream",
          "name": "stdout",
          "text": [
            "7/7 [==============================] - 0s 2ms/step - loss: 0.0445\n",
            "Test Loss: 0.0445016473531723\n",
            "7/7 [==============================] - 0s 2ms/step\n"
          ]
        }
      ]
    },
    {
      "cell_type": "markdown",
      "source": [
        "The cost function doesn't have a very clear interpretation, so we will observe what it does with a known vector within the training range (from 0 to 100)."
      ],
      "metadata": {
        "id": "a6yCsIVBN8tD"
      }
    },
    {
      "cell_type": "code",
      "source": [
        "# Use the model to sort a new vector\n",
        "new_vector = np.array([[3, 1, 2]])\n",
        "sorted_vector = model.predict(new_vector)\n",
        "sorted_vector"
      ],
      "metadata": {
        "colab": {
          "base_uri": "https://localhost:8080/"
        },
        "id": "hhFeRWsUGOFn",
        "outputId": "e5ff77ea-c2c9-4f7e-a1eb-c63bff697574"
      },
      "execution_count": 4,
      "outputs": [
        {
          "output_type": "stream",
          "name": "stdout",
          "text": [
            "1/1 [==============================] - 0s 16ms/step\n"
          ]
        },
        {
          "output_type": "execute_result",
          "data": {
            "text/plain": [
              "array([[1.041336 , 2.0033839, 2.996291 ]], dtype=float32)"
            ]
          },
          "metadata": {},
          "execution_count": 4
        }
      ]
    },
    {
      "cell_type": "markdown",
      "source": [
        "It works relatively well. Let's test it on a vector far from the training range to see if the order is preserved."
      ],
      "metadata": {
        "id": "xBgsTfxXN-ZI"
      }
    },
    {
      "cell_type": "code",
      "source": [
        "new_vector_outside = np.array([[30000, 100000, 25000]])\n",
        "sorted_vector_outside = model.predict(new_vector)\n",
        "sorted_vector_outside"
      ],
      "metadata": {
        "colab": {
          "base_uri": "https://localhost:8080/"
        },
        "id": "PfLBNEqNE7ho",
        "outputId": "79ee4ca5-ee46-40e3-da34-7c408f84b1c9"
      },
      "execution_count": 8,
      "outputs": [
        {
          "output_type": "stream",
          "name": "stdout",
          "text": [
            "1/1 [==============================] - 0s 17ms/step\n"
          ]
        },
        {
          "output_type": "execute_result",
          "data": {
            "text/plain": [
              "array([[ 247.09026,  301.3269 , 1000.3823 ]], dtype=float32)"
            ]
          },
          "metadata": {},
          "execution_count": 8
        }
      ]
    },
    {
      "cell_type": "markdown",
      "source": [
        "\n",
        "Now let's examine the process in more detail. We test it on randomly generated data, round the output, and observe the distribution of how many digits it gets correct."
      ],
      "metadata": {
        "id": "rX6IL3BSOwfS"
      }
    },
    {
      "cell_type": "code",
      "source": [
        "# Count the number of exact matches for each level of correct predictions\n",
        "correct_predictions = np.sum(np.sum(rounded_predicted_output_data == test_output_data, axis=1) == 3)\n",
        "correct_2_predictions = np.sum(np.sum(rounded_predicted_output_data == test_output_data, axis=1) == 2)\n",
        "correct_1_predictions = np.sum(np.sum(rounded_predicted_output_data == test_output_data, axis=1) == 1)\n",
        "correct_0_predictions = np.sum(np.sum(rounded_predicted_output_data == test_output_data, axis=1) == 0)\n",
        "\n",
        "# Calculate accuracy for each level\n",
        "accuracy_3 = correct_predictions / num_test_samples * 100\n",
        "accuracy_2 = correct_2_predictions / num_test_samples * 100\n",
        "accuracy_1 = correct_1_predictions / num_test_samples * 100\n",
        "accuracy_0 = correct_0_predictions / num_test_samples * 100\n",
        "\n",
        "# Print accuracy for each level\n",
        "print(f'Accuracy (All Numbers Correct): {accuracy_3:.2f}%')\n",
        "print(f'Accuracy (2 Numbers Correct): {accuracy_2:.2f}%')\n",
        "print(f'Accuracy (1 Number Correct): {accuracy_1:.2f}%')\n",
        "print(f'Accuracy (None Correct): {accuracy_0:.2f}%')"
      ],
      "metadata": {
        "colab": {
          "base_uri": "https://localhost:8080/"
        },
        "id": "TMGWtMq1J30-",
        "outputId": "53c4bba5-6508-4bc2-e91f-3067b3e46a64"
      },
      "execution_count": 7,
      "outputs": [
        {
          "output_type": "stream",
          "name": "stdout",
          "text": [
            "Accuracy (All Numbers Correct): 91.00%\n",
            "Accuracy (2 Numbers Correct): 9.00%\n",
            "Accuracy (1 Number Correct): 0.00%\n",
            "Accuracy (None Correct): 0.00%\n"
          ]
        }
      ]
    }
  ]
}